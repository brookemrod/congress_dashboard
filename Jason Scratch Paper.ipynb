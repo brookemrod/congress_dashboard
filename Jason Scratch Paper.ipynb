{
 "cells": [
  {
   "cell_type": "code",
   "execution_count": 1,
   "metadata": {},
   "outputs": [],
   "source": [
    "from flask import Flask, render_template, redirect\n",
    "from flask_pymongo import PyMongo\n",
    "from pymongo import MongoClient\n",
    "import json\n",
    "\n",
    "# Create an instance of Flask\n",
    "app = Flask(__name__)\n"
   ]
  },
  {
   "cell_type": "code",
   "execution_count": 2,
   "metadata": {},
   "outputs": [],
   "source": [
    "mongo = PyMongo(app, uri=\"mongodb://localhost:27017/congress_app\")\n",
    "\n",
    "client = MongoClient('localhost', 27017)\n",
    "db = client['congress_db']\n",
    "collection = db['congressman']"
   ]
  },
  {
   "cell_type": "code",
   "execution_count": 4,
   "metadata": {},
   "outputs": [],
   "source": [
    "with open('static/data/legislators-historical.json') as data_file:\n",
    "    data = json.load(data_file)\n",
    "    for item in data:\n",
    "#         key = {\"id\": item['id']['govtrack']}\n",
    "#         data = {\"first_name\": item['name']['first'],\n",
    "#             \"last_name\": item['name']['last'],\n",
    "#             \"dob\": item['bio']['birthday'],\n",
    "#             \"gender\": item['bio']['gender'],\n",
    "#             \"terms\": item['terms'],\n",
    "#             }\n",
    "        congress_data = mongo.db.collection.insert_one(item)\n",
    "    # Find one record of data from the mongo database\n"
   ]
  },
  {
   "cell_type": "code",
   "execution_count": 33,
   "metadata": {},
   "outputs": [
    {
     "ename": "TypeError",
     "evalue": "'InsertOneResult' object is not subscriptable",
     "output_type": "error",
     "traceback": [
      "\u001b[1;31m---------------------------------------------------------------------------\u001b[0m",
      "\u001b[1;31mTypeError\u001b[0m                                 Traceback (most recent call last)",
      "\u001b[1;32m<ipython-input-33-a795559a5f22>\u001b[0m in \u001b[0;36m<module>\u001b[1;34m()\u001b[0m\n\u001b[1;32m----> 1\u001b[1;33m \u001b[0mcongress_data\u001b[0m\u001b[1;33m[\u001b[0m\u001b[1;34m'term'\u001b[0m\u001b[1;33m]\u001b[0m\u001b[1;33m\u001b[0m\u001b[0m\n\u001b[0m",
      "\u001b[1;31mTypeError\u001b[0m: 'InsertOneResult' object is not subscriptable"
     ]
    }
   ],
   "source": [
    "congress_data['term']"
   ]
  },
  {
   "cell_type": "code",
   "execution_count": null,
   "metadata": {},
   "outputs": [],
   "source": []
  },
  {
   "cell_type": "code",
   "execution_count": null,
   "metadata": {},
   "outputs": [],
   "source": []
  }
 ],
 "metadata": {
  "kernelspec": {
   "display_name": "Python 3",
   "language": "python",
   "name": "python3"
  },
  "language_info": {
   "codemirror_mode": {
    "name": "ipython",
    "version": 3
   },
   "file_extension": ".py",
   "mimetype": "text/x-python",
   "name": "python",
   "nbconvert_exporter": "python",
   "pygments_lexer": "ipython3",
   "version": "3.7.1"
  }
 },
 "nbformat": 4,
 "nbformat_minor": 2
}
